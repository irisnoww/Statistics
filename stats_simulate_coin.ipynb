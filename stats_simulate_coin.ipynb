{
  "nbformat": 4,
  "nbformat_minor": 0,
  "metadata": {
    "colab": {
      "name": "stats_simulate coin.ipynb",
      "provenance": [],
      "authorship_tag": "ABX9TyPsB75l6DjDvGq4uahMO/jB",
      "include_colab_link": true
    },
    "kernelspec": {
      "name": "python3",
      "display_name": "Python 3"
    }
  },
  "cells": [
    {
      "cell_type": "markdown",
      "metadata": {
        "id": "view-in-github",
        "colab_type": "text"
      },
      "source": [
        "<a href=\"https://colab.research.google.com/github/irisnoww/Statistics/blob/main/stats_simulate_coin.ipynb\" target=\"_parent\"><img src=\"https://colab.research.google.com/assets/colab-badge.svg\" alt=\"Open In Colab\"/></a>"
      ]
    },
    {
      "cell_type": "code",
      "metadata": {
        "id": "D5U0UdUZbEac"
      },
      "source": [
        "import numpy as np\n",
        "import random"
      ],
      "execution_count": null,
      "outputs": []
    },
    {
      "cell_type": "code",
      "metadata": {
        "colab": {
          "base_uri": "https://localhost:8080/"
        },
        "id": "dJZ0-sA6absR",
        "outputId": "98d6702f-7e72-477c-a02c-c9898182922f"
      },
      "source": [
        "np.random.random(1)"
      ],
      "execution_count": null,
      "outputs": [
        {
          "output_type": "execute_result",
          "data": {
            "text/plain": [
              "array([0.84047115])"
            ]
          },
          "metadata": {
            "tags": []
          },
          "execution_count": 3
        }
      ]
    },
    {
      "cell_type": "code",
      "metadata": {
        "id": "JJ_3sE1Nadwg"
      },
      "source": [
        "def biascoin(p):\n",
        "  if random.random(1) < p:\n",
        "    return 1\n",
        "  else:\n",
        "    return 0\n"
      ],
      "execution_count": null,
      "outputs": []
    },
    {
      "cell_type": "code",
      "metadata": {
        "id": "zGc4bajbatCu"
      },
      "source": [
        "#This procedure only works if the tosses are paired properly; if part of a pair is reused in another pair, the fairness may be ruined.\n",
        "#Also, the coin must not be so biased that one side has a probability of zero.\n",
        "Ntoss = 0\n",
        "def con2faircoin(p):\n",
        "  coin1 = biascoin(p)\n",
        "  coin2 = biascoin(p)\n",
        "  while Ntoss < 3:\n",
        "\n",
        "    if a == b:\n",
        "      Ntoss += 1\n",
        "      return con2faircoin(p)\n",
        "    else:\n",
        "      return a\n",
        "  "
      ],
      "execution_count": null,
      "outputs": []
    },
    {
      "cell_type": "code",
      "metadata": {
        "id": "KyxkFrUqbjDR"
      },
      "source": [
        "#improving efficiency\n"
      ],
      "execution_count": null,
      "outputs": []
    },
    {
      "cell_type": "code",
      "metadata": {
        "id": "GhvYrL6mkdLv"
      },
      "source": [
        "#given a biased coin\n",
        "#generate N numbers with equal probability p = 1/N\n",
        "\n"
      ],
      "execution_count": null,
      "outputs": []
    },
    {
      "cell_type": "code",
      "metadata": {
        "id": "CdIxKvmEllx_"
      },
      "source": [
        "#simulate biased coin from fair coin\\\n"
      ],
      "execution_count": null,
      "outputs": []
    },
    {
      "cell_type": "code",
      "metadata": {
        "id": "NAaUOIN1AP7W"
      },
      "source": [
        ""
      ],
      "execution_count": null,
      "outputs": []
    },
    {
      "cell_type": "markdown",
      "metadata": {
        "id": "-UULM8XEARI3"
      },
      "source": [
        "A famous French mathematician Pierre Raymond De Montmart, who was known for his work in combinatorics, proposed a simple game called as Game of Thirteen. You have a deck of 13 cards, each numbered from 1 through 13. Shuffle this deck and draw cards one by one. A coincidence is when the number on the card matches the order in which the card is drawn. For instance, if the 5th card you draw happens to be a 5, it's a coincidence. You win the game if you get through all the cards without any coincidences. Let's calculate the probability of winning at this game using simulation.\n",
        "\n",
        "By completing this exercise, you will further strengthen your ability to cast abstract problems into the simulation framework for estimating probabilities."
      ]
    },
    {
      "cell_type": "code",
      "metadata": {
        "id": "Cu7IGnNKASPm"
      },
      "source": [
        "# Pre-set constant variables\n",
        "deck, sims, coincidences = np.arange(1, 14), 10000, 0\n",
        "\n",
        "for _ in range(sims):\n",
        "    # Draw all the cards without replacement to simulate one game\n",
        "    draw = np.random.choice(deck, size=13, replace=False) \n",
        "    # Check if there are any coincidences\n",
        "    coincidence = (draw == list(np.arange(1, 14))).any()\n",
        "    # print(draw)\n",
        "    if coincidence == True:\n",
        "        coincidences += 1\n",
        "\n",
        "# Calculate probability of winning\n",
        "prob_of_winning = 1-coincidences/sims\n",
        "print(\"Probability of winning = {}\".format(prob_of_winning))\n",
        "print(coincidences)\n",
        "np.arange(1, 14)"
      ],
      "execution_count": null,
      "outputs": []
    },
    {
      "cell_type": "markdown",
      "metadata": {
        "id": "M6aEwyrTDka3"
      },
      "source": [
        "The conditional urn\n",
        "As we've learned, conditional probability is defined as the probability of an event given another event. To illustrate this concept, let's turn to an urn problem.\n",
        "\n",
        "We have an urn that contains 7 white and 6 black balls. Four balls are drawn at random. We'd like to know the probability that the first and third balls are white, while the second and the fourth balls are black.\n",
        "\n",
        "Upon completion, you will learn to manipulate simulations to calculate simple conditional probabilities."
      ]
    },
    {
      "cell_type": "code",
      "metadata": {
        "id": "dTNK45fsDmBM"
      },
      "source": [
        "# Initialize success, sims and urn\n",
        "success, sims = 0, 5000\n",
        "urn = ['w']*7 + ['b']*6\n",
        "\n",
        "for _ in range(sims):\n",
        "    # Draw 4 balls without replacement\n",
        "    draw = np.random.choice(urn, replace=False, size=4)\n",
        "    # Count the number of successes\n",
        "    if (draw[0] == 'w') & (draw[1] == 'b') & (draw[2] == 'w') & (draw[3] == 'b'):\n",
        "        success +=1\n",
        "\n",
        "print(\"Probability of success = {}\".format(success/sims))"
      ],
      "execution_count": null,
      "outputs": []
    },
    {
      "cell_type": "markdown",
      "metadata": {
        "id": "ufl9tChNE_Wp"
      },
      "source": [
        "Birthday problem\n",
        "Now we'll use simulation to solve a famous probability puzzle - the birthday problem. It sounds quite straightforward - How many people do you need in a room to ensure at least a 50% chance that two of them share the same birthday?\n",
        "\n",
        "With 366 people in a 365-day year, we are 100% sure that at least two have the same birthday, but we only need to be 50% sure. Simulation gives us an elegant way of solving this problem.\n",
        "\n",
        "Upon completion of this exercise, you will begin to understand how to cast problems in a simulation framework."
      ]
    },
    {
      "cell_type": "code",
      "metadata": {
        "id": "2c6yIXzRDo_z"
      },
      "source": [
        "# Draw a sample of birthdays & check if each birthday is unique\n",
        "days = np.arange(1,366)\n",
        "people = 2\n",
        "\n",
        "def birthday_sim(people):\n",
        "    sims, unique_birthdays = 2000, 0 \n",
        "    for _ in range(sims):\n",
        "        draw = np.random.choice(days, size=people, replace=True)\n",
        "        if len(draw) == len(set(draw)): \n",
        "            unique_birthdays += 1\n",
        "    out = 1 - unique_birthdays / sims\n",
        "    return out"
      ],
      "execution_count": null,
      "outputs": []
    },
    {
      "cell_type": "code",
      "metadata": {
        "id": "CqQl1xp_FCKv"
      },
      "source": [
        "# Break out of the loop if probability greater than 0.5\n",
        "while (people > 0):\n",
        "    prop_bds = birthday_sim(people)\n",
        "    if prop_bds > 0.5: \n",
        "        break\n",
        "    people += 1\n",
        "\n",
        "print(\"With {} people, there's a 50% chance that two share a birthday.\".format(people))"
      ],
      "execution_count": null,
      "outputs": []
    },
    {
      "cell_type": "markdown",
      "metadata": {
        "id": "DgrDA0-aFENM"
      },
      "source": [
        "Full house\n",
        "Let's return to our poker game. Last time, we calculated the probability of getting at least two of a kind. This time we are interested in a full house. A full house is when you get two cards of different suits that share the same numeric value and three other cards that have the same numeric value (e.g., 2 of hearts & spades, jacks of clubs, diamonds, & spades).\n",
        "\n",
        "Thus, a full house is the probability of getting exactly three of a kind conditional on getting exactly two of a kind of another value. Using the same code as before, modify the success condition to get the desired output. This exercise will teach you to estimate conditional probabilities in card games and build your foundation in framing abstract problems for simulation."
      ]
    },
    {
      "cell_type": "code",
      "metadata": {
        "id": "naL5z1D9F_5Q"
      },
      "source": [
        "#Shuffle deck & count card occurrences in the hand\n",
        "n_sims, full_house, deck_of_cards = 50000, 0, deck.copy() \n",
        "for i in range(n_sims):\n",
        "    np.random.shuffle(deck_of_cards)\n",
        "    hand, cards_in_hand = deck_of_cards[0:5], {}\n",
        "    for card in hand:\n",
        "        # Use .get() method to count occurrences of each card\n",
        "        cards_in_hand[card[1]] = cards_in_hand.get(card[1], 0) + 1\n",
        "        \n",
        "    # Condition for getting full house\n",
        "    condition = (max(cards_in_hand.values()) ==3) & (min(cards_in_hand.values())==2)\n",
        "    if condition: \n",
        "        full_house += 1\n",
        "print(\"Probability of seeing a full house = {}\".format(full_house/n_sims))"
      ],
      "execution_count": null,
      "outputs": []
    },
    {
      "cell_type": "markdown",
      "metadata": {
        "id": "UQ7cWUyCh9V3"
      },
      "source": [
        "Fitness goals\n",
        "Let's model how activity levels impact weight loss using modern fitness trackers. On days when you go to the gym, you average around 15k steps, and around 5k steps otherwise. You go to the gym 40% of the time. Let's model the step counts in a day as a Poisson random variable with a mean  dependent on whether or not you go to the gym.\n",
        "\n",
        "For simplicity, let’s say you have an 80% chance of losing 1lb and a 20% chance of gaining 1lb when you get more than 10k steps. The probabilities are reversed when you get less than 8k steps. Otherwise, there's an even chance of gaining or losing 1lb. Given all this information, find the probability of losing weight in a month."
      ]
    },
    {
      "cell_type": "code",
      "metadata": {
        "id": "hqdfhbpjh9yJ"
      },
      "source": [
        "# Simulate steps & choose prob \n",
        "for _ in range(sims):\n",
        "    w = []\n",
        "    for i in range(days):\n",
        "        lam = np.random.choice([5000, 15000], p=[0.6, 0.4], size=1)\n",
        "        steps = np.random.poisson(lam)\n",
        "        if steps > 10000: \n",
        "            prob = [0.2,0.8]\n",
        "        elif steps < 8000: \n",
        "            prob = [0.8, 0.2]\n",
        "        else:\n",
        "            prob = [0.5, 0.5]\n",
        "        w.append(np.random.choice([1, -1], p=prob))\n",
        "    outcomes.append(sum(w))\n",
        "\n",
        "# Calculate fraction of outcomes where there was a weight loss\n",
        "weight_loss_outcomes_frac = sum([x<0 for x in outcomes])/len(outcomes)\n",
        "print(\"Probability of Weight Loss = {}\".format(weight_loss_outcomes_frac))\n"
      ],
      "execution_count": null,
      "outputs": []
    },
    {
      "cell_type": "markdown",
      "metadata": {
        "id": "ESMWJwT9PAgX"
      },
      "source": [
        "Power Analysis - Part II\n",
        "Previously, we simulated one instance of the experiment & generated a p-value. We will now use this framework to calculate statistical power. Power of an experiment is the experiment's ability to detect a difference between treatment & control if the difference really exists. It's good statistical hygiene to strive for 80% power.\n",
        "\n",
        "For our website, suppose we want to know how many people need to visit each variant, such that we can detect a 10% increase in time spent with 80% power. For this, we start with a small sample (50), simulate multiple instances of this experiment & check power. If 80% power is reached, we stop. If not, we increase the sample size & try again."
      ]
    },
    {
      "cell_type": "code",
      "metadata": {
        "id": "o-hU0C2vPDat"
      },
      "source": [
        "sample_size = 50\n",
        "\n",
        "# Keep incrementing sample size by 10 till we reach required power\n",
        "while 1:\n",
        "    control_time_spent = np.random.normal(loc=control_mean, scale=control_sd, size=(sample_size,sims))\n",
        "    treatment_time_spent = np.random.normal(loc=control_mean*(1+effect_size), scale=control_sd, size=(sample_size,sims))\n",
        "    t, p = st.ttest_ind(treatment_time_spent, control_time_spent)\n",
        "    \n",
        "    # Power is the fraction of times in the simulation when the p-value was less than 0.05\n",
        "    power = (p < 0.05).sum()/sims\n",
        "    if power>=0.8: \n",
        "        break\n",
        "    else: \n",
        "        sample_size += 10\n",
        "print(\"For 80% power, sample size required = {}\".format(sample_size))"
      ],
      "execution_count": null,
      "outputs": []
    }
  ]
}